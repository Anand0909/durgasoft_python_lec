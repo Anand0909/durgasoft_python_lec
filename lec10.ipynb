{
 "cells": [
  {
   "cell_type": "code",
   "execution_count": 1,
   "metadata": {},
   "outputs": [
    {
     "data": {
      "text/plain": [
       "2"
      ]
     },
     "execution_count": 1,
     "metadata": {},
     "output_type": "execute_result"
    }
   ],
   "source": [
    "True+True"
   ]
  },
  {
   "cell_type": "code",
   "execution_count": 2,
   "metadata": {},
   "outputs": [
    {
     "ename": "SyntaxError",
     "evalue": "unterminated string literal (detected at line 1) (1835006472.py, line 1)",
     "output_type": "error",
     "traceback": [
      "\u001b[1;36m  Cell \u001b[1;32mIn[2], line 1\u001b[1;36m\u001b[0m\n\u001b[1;33m    \"durga\u001b[0m\n\u001b[1;37m    ^\u001b[0m\n\u001b[1;31mSyntaxError\u001b[0m\u001b[1;31m:\u001b[0m unterminated string literal (detected at line 1)\n"
     ]
    }
   ],
   "source": [
    "\"durga\n",
    "soft\""
   ]
  },
  {
   "cell_type": "code",
   "execution_count": 3,
   "metadata": {},
   "outputs": [
    {
     "data": {
      "text/plain": [
       "'durga\\nsoft'"
      ]
     },
     "execution_count": 3,
     "metadata": {},
     "output_type": "execute_result"
    }
   ],
   "source": [
    "'''durga\n",
    "soft'''"
   ]
  },
  {
   "cell_type": "code",
   "execution_count": 4,
   "metadata": {},
   "outputs": [],
   "source": [
    "# immutable - non changable nature"
   ]
  },
  {
   "cell_type": "code",
   "execution_count": 3,
   "metadata": {},
   "outputs": [
    {
     "data": {
      "text/plain": [
       "1"
      ]
     },
     "execution_count": 3,
     "metadata": {},
     "output_type": "execute_result"
    }
   ],
   "source": [
    "# bytes : 0 to 256 range only\n",
    "l = [1,10,20,3,24,34]\n",
    "b=bytes(l)\n",
    "\n",
    "l1=[1,2,3,4,25]\n",
    "b1=bytes(l1)\n",
    "\n",
    "#b[0]=100\n",
    "\n",
    "# bytes is immutable, we can't chnage element\n",
    "\n",
    "b[0]"
   ]
  },
  {
   "cell_type": "code",
   "execution_count": 6,
   "metadata": {},
   "outputs": [
    {
     "data": {
      "text/plain": [
       "100"
      ]
     },
     "execution_count": 6,
     "metadata": {},
     "output_type": "execute_result"
    }
   ],
   "source": [
    "#bytearray : - same as bytes data type, only difference : item assignment is possible in bytesarray\n",
    "\n",
    "l = [1,2,34,3,23]\n",
    "b=bytearray(l)\n",
    "\n",
    "#mutable - we can change/assign new value in case of bytearray\n",
    "b[0]= 100\n",
    "\n",
    "b[0]"
   ]
  },
  {
   "cell_type": "code",
   "execution_count": 10,
   "metadata": {},
   "outputs": [
    {
     "data": {
      "text/plain": [
       "range(10, 30, 5)"
      ]
     },
     "execution_count": 10,
     "metadata": {},
     "output_type": "execute_result"
    }
   ],
   "source": [
    "# range : to represent range of values\n",
    "# range will give value from start to end-1 value, while start is not provided then default value is 0\n",
    "range(10)  # this will give value from 0 to 9\n",
    "\n",
    "range(10,30) # this will provided value from 10 to 29\n",
    "\n",
    "# when we need to provide data with increment then we can range with increment : range(start,end,step) => this will provide value from start to end-1 with provided increment of value equal to step\n",
    "range(10,30,5) \n",
    "\n",
    "# range data type is always immutable\n",
    "\n"
   ]
  },
  {
   "cell_type": "code",
   "execution_count": 18,
   "metadata": {},
   "outputs": [
    {
     "data": {
      "text/plain": [
       "[123, 20, 'aa', 259, {'k': 23}]"
      ]
     },
     "execution_count": 18,
     "metadata": {},
     "output_type": "execute_result"
    }
   ],
   "source": [
    "# list : \n",
    "# insertion order is always preserved\n",
    "# Duplicates are allowed\n",
    "# Hetrogeneous objects is allowed\n",
    "# mutable in nature - growable : can increase or decrease \n",
    "# represent by[]\n",
    "\n",
    "l = [10,20,\"aa\",259,{\"k\":23}]\n",
    "type(l)\n",
    "\n",
    "l[0] = 123  # mutable\n",
    "\n",
    "l\n",
    "\n"
   ]
  },
  {
   "cell_type": "code",
   "execution_count": null,
   "metadata": {},
   "outputs": [
    {
     "ename": "TypeError",
     "evalue": "'tuple' object does not support item assignment",
     "output_type": "error",
     "traceback": [
      "\u001b[1;31m---------------------------------------------------------------------------\u001b[0m",
      "\u001b[1;31mTypeError\u001b[0m                                 Traceback (most recent call last)",
      "Cell \u001b[1;32mIn[2], line 9\u001b[0m\n\u001b[0;32m      5\u001b[0m t\u001b[38;5;241m=\u001b[39m(\u001b[38;5;241m10\u001b[39m,\u001b[38;5;241m20\u001b[39m,\u001b[38;5;241m30\u001b[39m,\u001b[38;5;241m40\u001b[39m)\n\u001b[0;32m      7\u001b[0m t[\u001b[38;5;241m0\u001b[39m]\n\u001b[1;32m----> 9\u001b[0m \u001b[43mt\u001b[49m\u001b[43m[\u001b[49m\u001b[38;5;241;43m0\u001b[39;49m\u001b[43m]\u001b[49m\u001b[38;5;241m=\u001b[39m\u001b[38;5;241m731\u001b[39m\n\u001b[0;32m     11\u001b[0m t\n",
      "\u001b[1;31mTypeError\u001b[0m: 'tuple' object does not support item assignment"
     ]
    }
   ],
   "source": [
    "# Tuple :\n",
    "# same as list except mutability - tuple is immutable in nature - it does not support item assignment\n",
    "# it is represented by ()\n",
    "\n",
    "t=(10,20,30,40)\n",
    "\n",
    "t[0]\n",
    "\n",
    "t[0]=731\n",
    "\n",
    "t"
   ]
  },
  {
   "cell_type": "code",
   "execution_count": 9,
   "metadata": {},
   "outputs": [
    {
     "name": "stdout",
     "output_type": "stream",
     "text": [
      "True\n"
     ]
    }
   ],
   "source": [
    "# set:\n",
    "# in the case of list order is important and dublicates are allowed, whereas in set order is not defined and dublicates are not allowed\n",
    "# set is not subscriptable - no positioning/index is allowed as order is not defined inside set\n",
    "# set is taken from mathematics - where it means set is group of elements where order is not important\n",
    "# set is mutable in nature - we can add or remove element in a given set\n",
    "\n",
    "s={1,2,3,4,5,9}\n",
    "\n",
    "try:\n",
    "    s[0]\n",
    "except:\n",
    "    pass\n",
    "\n",
    "\n",
    "s1={1,2,3}\n",
    "s2={3,2,1}\n",
    "s3={2,1,3}\n",
    "\n",
    "print(s1==s2==s3)\n",
    "\n",
    "s4={}\n",
    "# this s4 will be treated as disctionary not set, and empty set will be created as s4=set()\n"
   ]
  },
  {
   "cell_type": "code",
   "execution_count": 10,
   "metadata": {},
   "outputs": [],
   "source": [
    "# froenset:\n",
    "# set converted to frozenset by using function frozenset()\n",
    "# diff between set and froenset is : set is mutable while frozenset is immutable\n",
    "\n",
    "s={10,20,30,50}\n",
    "fs=frozenset(s)"
   ]
  },
  {
   "cell_type": "code",
   "execution_count": 11,
   "metadata": {},
   "outputs": [
    {
     "data": {
      "text/plain": [
       "{101: 'summy', 102: 'ravi'}"
      ]
     },
     "execution_count": 11,
     "metadata": {},
     "output_type": "execute_result"
    }
   ],
   "source": [
    "# dict:\n",
    "# it is represented by {key:value}\n",
    "# mutable in nature\n",
    "# keys can not be dublicated , while value can be dublicate\n",
    "\n",
    "\n",
    "d={101:\"durga\"}\n",
    "d[102] = \"ravi\"\n",
    "d[101] = \"summy\"\n",
    "\n",
    "d"
   ]
  },
  {
   "cell_type": "code",
   "execution_count": 14,
   "metadata": {},
   "outputs": [
    {
     "name": "stdout",
     "output_type": "stream",
     "text": [
      "None\n"
     ]
    }
   ],
   "source": [
    "# None data type:\n",
    "# no value assossiated \n",
    "\n",
    "def f1():\n",
    "    a=10\n",
    "\n",
    "print(f1())"
   ]
  },
  {
   "cell_type": "code",
   "execution_count": 15,
   "metadata": {},
   "outputs": [],
   "source": [
    "# escape haracter :\n",
    "# \\n = new line\n",
    "# \\t = horizontal tab\n",
    "# \\r = carrage return - curser will go to first position\n",
    "# \\b = backspace\n",
    "# \\f = formfeed - go to page down\n",
    "# \\' = it will allow to use ' as symbol only\n",
    "# \\\" = it will allow to use \" as symbol only \n",
    "# \\\\ = it will allow to use \\ as symbol only  \n",
    "# \\v = vertical tab\n"
   ]
  },
  {
   "cell_type": "code",
   "execution_count": 16,
   "metadata": {},
   "outputs": [],
   "source": [
    "# Constants:\n",
    "# this vlaue will be always constant , it can't chnaged\n",
    "# in python constant value doesn't exsist\n",
    "# if in python we want to don't chnage any value then we can request that keeping varibale in CONSTANT only, but value can chnge if any one wants to"
   ]
  }
 ],
 "metadata": {
  "kernelspec": {
   "display_name": "Python 3",
   "language": "python",
   "name": "python3"
  },
  "language_info": {
   "codemirror_mode": {
    "name": "ipython",
    "version": 3
   },
   "file_extension": ".py",
   "mimetype": "text/x-python",
   "name": "python",
   "nbconvert_exporter": "python",
   "pygments_lexer": "ipython3",
   "version": "3.12.4"
  }
 },
 "nbformat": 4,
 "nbformat_minor": 2
}
